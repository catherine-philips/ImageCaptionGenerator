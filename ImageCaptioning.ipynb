{
 "cells": [
  {
   "cell_type": "code",
   "execution_count": null,
   "metadata": {},
   "outputs": [],
   "source": [
    "from os import listdir\n",
    "from pickle import dump\n",
    "from keras.applications.vgg16 import VGG16\n",
    "from keras.utils import load_img\n",
    "from keras.utils import img_to_array\n",
    "from keras.applications.vgg16 import preprocess_input\n",
    "from keras.models import Model\n",
    "from keras.models import load_model\n",
    "from numpy import argmax\n",
    "from PIL import Image\n",
    "\n",
    "import string\n",
    "from pickle import load\n",
    "\n",
    "\n",
    "from numpy import array\n",
    "import tensorflow\n",
    "from pickle import load\n",
    "from keras.preprocessing.text import Tokenizer\n",
    "from keras_preprocessing.sequence import pad_sequences\n",
    "from keras.utils import to_categorical\n",
    "from keras.utils import plot_model\n",
    "from keras.models import Model\n",
    "from keras.layers import Dense, LSTM, Dropout, Input, Embedding\n",
    "#from keras.layers.concatenate import add\n",
    "from keras.layers import concatenate as c\n",
    "from keras.callbacks import ModelCheckpoint\n",
    "from keras.layers import add"
   ]
  },
  {
   "cell_type": "code",
   "execution_count": null,
   "metadata": {
    "id": "3wI3ME9sjxjZ"
   },
   "outputs": [],
   "source": [
    "# feature extraction from each photo\n",
    "def feature_ext(directory):\n",
    "    model = VGG16()\n",
    "    model = Model(inputs=model.inputs, outputs=model.layers[-2].output)\n",
    "    print(model.summary())\n",
    "    features = dict() \n",
    "    for name in listdir(directory):\n",
    "        file1 = directory + '/' + name\n",
    "        img = load_img(file1, target_size=(224, 224))\n",
    "        img = img_to_array(img)\n",
    "        img = img.reshape((1, img.shape[0], img.shape[1], img.shape[2]))\n",
    "        img = preprocess_input(img)\n",
    "        feature = model.predict(img, verbose=0)\n",
    "        id = name.split('.')[0]\n",
    "        features[id] = feature\n",
    "        #print('>%s' % name)\n",
    "    return features\n",
    "\n",
    "\n",
    "directory = '/content/drive/MyDrive/archive/Images'\n",
    "features = feature_ext(directory)\n",
    "print('Extracted Features: %d' % len(features))\n"
   ]
  },
  {
   "cell_type": "code",
   "execution_count": null,
   "metadata": {
    "id": "3xvwTUCYmlsI"
   },
   "outputs": [],
   "source": [
    "dump(features, open('/content/drive/MyDrive/Image Captioning/features.pkl', 'wb'))"
   ]
  },
  {
   "cell_type": "code",
   "execution_count": null,
   "metadata": {
    "id": "frsPrn9cS0me"
   },
   "outputs": [],
   "source": [
    "\n",
    "def doc_loader(filename):\n",
    "    file = open(filename, 'r')\n",
    "    text = file.read()\n",
    "    file.close()\n",
    "    return text"
   ]
  },
  {
   "cell_type": "code",
   "execution_count": null,
   "metadata": {
    "id": "i3ANKEwzXY7X"
   },
   "outputs": [],
   "source": [
    "def load_desc(doc):\n",
    "    map = dict()\n",
    "    for line in doc.split('\\n'):\n",
    "        tok = line.split()\n",
    "        if len(line) < 2:\n",
    "            continue\n",
    "        id, desc = tok[0], tok[1:]\n",
    "        id = id.split('.')[0]\n",
    "        desc = ' '.join(desc)\n",
    "        if id not in map:\n",
    "            map[id] = list()\n",
    "        map[id].append(desc)\n",
    "    return map"
   ]
  },
  {
   "cell_type": "code",
   "execution_count": null,
   "metadata": {
    "id": "kCFu8HooXbUQ"
   },
   "outputs": [],
   "source": [
    "#TEXT CLEANING\n",
    "\n",
    "def clean(descriptions):\n",
    "    table = str.maketrans('', '', string.punctuation)\n",
    "    for key, dlist in descriptions.items():\n",
    "        for i in range(len(dlist)):\n",
    "            desc = dlist[i]\n",
    "            # tokenize\n",
    "            desc = desc.split()\n",
    "            #lower case\n",
    "            desc = [word.lower() for word in desc]\n",
    "            # remove punctuation\n",
    "            desc = [w.translate(table) for w in desc]\n",
    "            # remove hanging letters\n",
    "            desc = [word for word in desc if len(word)>1]\n",
    "            desc = [word for word in desc if word.isalpha()]\n",
    "            dlist[i] =  ' '.join(desc)"
   ]
  },
  {
   "cell_type": "code",
   "execution_count": null,
   "metadata": {
    "id": "Qn1qK-ORXc3M"
   },
   "outputs": [],
   "source": [
    "def to_vocab(descriptions):\n",
    "    all_desc = set()\n",
    "    for key in descriptions.keys():\n",
    "        [all_desc.update(d.split()) for d in descriptions[key]]\n",
    "    return all_desc"
   ]
  },
  {
   "cell_type": "code",
   "execution_count": null,
   "metadata": {
    "id": "PW5Pb3UJXep9"
   },
   "outputs": [],
   "source": [
    "def save_desc(d, filename):\n",
    "    lines = list()\n",
    "    for key, desc_list in d.items():\n",
    "        for desc in desc_list:\n",
    "            lines.append(key + ' ' + desc)\n",
    "    data = '\\n'.join(lines)\n",
    "    file = open(filename, 'w')\n",
    "    file.write(data)\n",
    "    file.close()"
   ]
  },
  {
   "cell_type": "code",
   "execution_count": null,
   "metadata": {
    "colab": {
     "base_uri": "https://localhost:8080/"
    },
    "id": "T4qNzkxDoSZX",
    "outputId": "25073f7e-04a9-4502-9ad5-e9acbe8dc18a"
   },
   "outputs": [
    {
     "name": "stdout",
     "output_type": "stream",
     "text": [
      "Loaded: 8092 \n",
      "Vocabulary Size: 8680\n"
     ]
    }
   ],
   "source": [
    "filename = '/content/drive/MyDrive/archive/captions.txt'\n",
    "doc = doc_loader(filename)\n",
    "d = load_desc(doc)\n",
    "print('Loaded: %d ' % len(d))\n",
    "clean(d)\n",
    "vocabulary = to_vocab(d)\n",
    "print('Vocabulary Size: %d' % len(vocabulary))\n",
    "save_desc(d, '/content/drive/MyDrive/archive/descriptions.txt')"
   ]
  },
  {
   "cell_type": "code",
   "execution_count": null,
   "metadata": {
    "id": "yB3YiovjoTIZ"
   },
   "outputs": [],
   "source": [
    "def doc_loader(filename):\n",
    "    file = open(filename, 'r')\n",
    "    text = file.read()\n",
    "    file.close()\n",
    "    return text"
   ]
  },
  {
   "cell_type": "code",
   "execution_count": null,
   "metadata": {
    "id": "7fIo5pmXXsLh"
   },
   "outputs": [],
   "source": [
    "def load_set(filename):\n",
    "    doc = doc_loader(filename)\n",
    "    data = list()\n",
    "    for line in doc.split('\\n'):\n",
    "        if len(line) < 1:\n",
    "            continue\n",
    "        identifier = line.split('.')[0]\n",
    "        data.append(identifier)\n",
    "    return set(data)\n",
    "\n"
   ]
  },
  {
   "cell_type": "code",
   "execution_count": null,
   "metadata": {
    "id": "hnSuIY3-XsOT"
   },
   "outputs": [],
   "source": [
    "def load_clean(filename, dataset):\n",
    "    doc = doc_loader(filename)\n",
    "    descriptions = dict()\n",
    "    for line in doc.split('\\n'):\n",
    "        tokens = line.split()\n",
    "        image_id, image_desc = tokens[0], tokens[1:]\n",
    "        if image_id in dataset:\n",
    "            if image_id not in descriptions:\n",
    "                descriptions[image_id] = list()\n",
    "            desc = 'startseq ' + ' '.join(image_desc) + ' endseq'\n",
    "            descriptions[image_id].append(desc)\n",
    "    return descriptions\n",
    "\n"
   ]
  },
  {
   "cell_type": "code",
   "execution_count": null,
   "metadata": {
    "id": "ZdChoXFgXsRv"
   },
   "outputs": [],
   "source": [
    "\n",
    "def load_pfeatures(filename, dataset):\n",
    "    all = load(open(filename, 'rb'))\n",
    "    features = {i: all[i] for i in dataset}\n",
    "    return features"
   ]
  },
  {
   "cell_type": "code",
   "execution_count": null,
   "metadata": {
    "colab": {
     "base_uri": "https://localhost:8080/"
    },
    "id": "BkEoCO-opRmC",
    "outputId": "28d33e1e-43e9-4a0b-80fc-c5f866d1cdc3"
   },
   "outputs": [
    {
     "name": "stdout",
     "output_type": "stream",
     "text": [
      "Dataset: 6000\n",
      "Descriptions: train=6000\n",
      "Photos: train=6000\n"
     ]
    }
   ],
   "source": [
    "# load training dataset\n",
    "filename = '/content/drive/MyDrive/Image-Caption-Generator-master/Image-Caption-Generator-master/Flickr_8k.trainImages.txt'\n",
    "train = load_set(filename)\n",
    "print('Dataset: %d' % len(train))\n",
    "\n",
    "\n",
    "train_descriptions = load_clean('/content/drive/MyDrive/archive/descriptions.txt', train)\n",
    "print('Descriptions: train=%d' % len(train_descriptions))\n",
    "\n",
    "train_features = load_pfeatures('/content/drive/MyDrive/archive/features.pkl', train)\n",
    "print('Photos: train=%d' % len(train_features))"
   ]
  },
  {
   "cell_type": "code",
   "execution_count": null,
   "metadata": {
    "id": "4-7ks4ECprsV"
   },
   "outputs": [],
   "source": [
    "\n",
    "def lines(descriptions):\n",
    "    desc = list()\n",
    "    for key in descriptions.keys():\n",
    "        [desc.append(d) for d in descriptions[key]]\n",
    "    return desc\n",
    "\n",
    "\n",
    "def tokenize(descriptions):\n",
    "    l = lines(descriptions)\n",
    "    tokenizer = Tokenizer()\n",
    "    tokenizer.fit_on_texts(l)\n",
    "    return tokenizer\n",
    "\n",
    "\n",
    "def max_length(descriptions):\n",
    "    l = lines(descriptions)\n",
    "    return max(len(d.split()) for d in l)\n",
    "\n"
   ]
  },
  {
   "cell_type": "code",
   "execution_count": null,
   "metadata": {
    "id": "l-63TsbGpjgT"
   },
   "outputs": [],
   "source": [
    "\n",
    "def sequences(tokenizer, max_length, desc_list, photo, vocab_size):\n",
    "    a, b, c = list(), list(), list()\n",
    "    for desc in desc_list:\n",
    "        seq = tokenizer.texts_to_sequences([desc])[0]\n",
    "        for i in range(1, len(seq)):\n",
    "            seq_in, out = seq[:i], seq[i]\n",
    "            seq_in = pad_sequences([seq_in], maxlen=max_length)[0]\n",
    "            out = to_categorical([out], num_classes=vocab_size)[0]\n",
    "            a.append(photo)\n",
    "            b.append(seq_in)\n",
    "            c.append(out)\n",
    "    return array(a), array(b), array(c)\n",
    "\n"
   ]
  },
  {
   "cell_type": "code",
   "execution_count": null,
   "metadata": {
    "id": "UKN-dJcFX_uJ"
   },
   "outputs": [],
   "source": [
    "def cap_model(vocab_size, max_length):\n",
    "    inputs1 = Input(shape=(4096,))\n",
    "    f1 = Dropout(0.5)(inputs1)\n",
    "    f2 = Dense(256, activation='relu')(f1)\n",
    "    i2 = Input(shape=(max_length,))\n",
    "    s1 = Embedding(vocab_size, 256, mask_zero=True)(i2)\n",
    "    s2 = Dropout(0.5)(s1)\n",
    "    s3 = LSTM(256)(s2)\n",
    "    decoder1 = add([f2, s3])\n",
    "    decoder2 = Dense(256, activation='relu')(decoder1)\n",
    "    outputs = Dense(vocab_size, activation='softmax')(decoder2)\n",
    "    model = Model(inputs=[inputs1, i2], outputs=outputs)\n",
    "    model.compile(loss='categorical_crossentropy', optimizer='adam')\n",
    "    model.summary()\n",
    "    plot_model(model, to_file='model.png', show_shapes=True)\n",
    "    return model\n"
   ]
  },
  {
   "cell_type": "code",
   "execution_count": null,
   "metadata": {
    "id": "8PrJSTUHX_3Y"
   },
   "outputs": [],
   "source": [
    "def data_gen(descriptions, photos, tokenizer, max_length, vocab_size):\n",
    "    while 1:\n",
    "        for key, desc_list in descriptions.items():\n",
    "            photo = photos[key][0]\n",
    "            in_img, in_seq, out_word = sequences(tokenizer, max_length, desc_list, photo, vocab_size)\n",
    "            yield [in_img, in_seq], out_word"
   ]
  },
  {
   "cell_type": "code",
   "execution_count": null,
   "metadata": {
    "colab": {
     "base_uri": "https://localhost:8080/"
    },
    "id": "4wQBTu7IqKEI",
    "outputId": "d662b28c-6512-4772-bbe2-3f630956f887"
   },
   "outputs": [
    {
     "name": "stdout",
     "output_type": "stream",
     "text": [
      "Vocabulary Size: 7507\n",
      "Description Length: 33\n"
     ]
    }
   ],
   "source": [
    "from pickle import dump\n",
    "tokenizer = tokenize(train_descriptions)\n",
    "vocab_size = len(tokenizer.word_index) + 1\n",
    "print('Vocabulary Size: %d' % vocab_size)\n",
    "max_length = max_length(train_descriptions)\n",
    "print('Description Length: %d' % max_length)\n",
    "dump(tokenizer, open('/content/drive/MyDrive/archive/tokenizer.pkl', 'wb'))"
   ]
  },
  {
   "cell_type": "code",
   "execution_count": null,
   "metadata": {
    "colab": {
     "base_uri": "https://localhost:8080/"
    },
    "id": "DbgkdleVZF3F",
    "outputId": "bace7065-5c06-4e3d-987a-a527e1978866"
   },
   "outputs": [
    {
     "metadata": {
      "tags": null
     },
     "name": "stdout",
     "output_type": "stream",
     "text": [
      "Model: \"model_1\"\n",
      "__________________________________________________________________________________________________\n",
      " Layer (type)                   Output Shape         Param #     Connected to                     \n",
      "==================================================================================================\n",
      " input_9 (InputLayer)           [(None, 33)]         0           []                               \n",
      "                                                                                                  \n",
      " input_8 (InputLayer)           [(None, 4096)]       0           []                               \n",
      "                                                                                                  \n",
      " embedding_3 (Embedding)        (None, 33, 256)      1921792     ['input_9[0][0]']                \n",
      "                                                                                                  \n",
      " dropout_6 (Dropout)            (None, 4096)         0           ['input_8[0][0]']                \n",
      "                                                                                                  \n",
      " dropout_7 (Dropout)            (None, 33, 256)      0           ['embedding_3[0][0]']            \n",
      "                                                                                                  \n",
      " dense_3 (Dense)                (None, 256)          1048832     ['dropout_6[0][0]']              \n",
      "                                                                                                  \n",
      " lstm_3 (LSTM)                  (None, 256)          525312      ['dropout_7[0][0]']              \n",
      "                                                                                                  \n",
      " add (Add)                      (None, 256)          0           ['dense_3[0][0]',                \n",
      "                                                                  'lstm_3[0][0]']                 \n",
      "                                                                                                  \n",
      " dense_4 (Dense)                (None, 256)          65792       ['add[0][0]']                    \n",
      "                                                                                                  \n",
      " dense_5 (Dense)                (None, 7507)         1929299     ['dense_4[0][0]']                \n",
      "                                                                                                  \n",
      "==================================================================================================\n",
      "Total params: 5,491,027\n",
      "Trainable params: 5,491,027\n",
      "Non-trainable params: 0\n",
      "__________________________________________________________________________________________________\n"
     ]
    },
    {
     "metadata": {
      "tags": null
     },
     "name": "stderr",
     "output_type": "stream",
     "text": [
      "<ipython-input-32-e2f3308dd4b2>:10: UserWarning: `Model.fit_generator` is deprecated and will be removed in a future version. Please use `Model.fit`, which supports generators.\n",
      "  model.fit_generator(generator, epochs=1, steps_per_epoch=steps, verbose=1)\n"
     ]
    },
    {
     "name": "stdout",
     "output_type": "stream",
     "text": [
      "6000/6000 [==============================] - 575s 95ms/step - loss: 4.7673\n",
      "6000/6000 [==============================] - 565s 94ms/step - loss: 3.9869\n",
      "6000/6000 [==============================] - 557s 93ms/step - loss: 3.7263\n",
      "6000/6000 [==============================] - 552s 92ms/step - loss: 3.5644\n",
      "6000/6000 [==============================] - 549s 92ms/step - loss: 3.4584\n",
      "6000/6000 [==============================] - 549s 92ms/step - loss: 3.3824\n",
      "6000/6000 [==============================] - 544s 91ms/step - loss: 3.3286\n",
      "6000/6000 [==============================] - 548s 91ms/step - loss: 3.2870\n",
      "6000/6000 [==============================] - 544s 91ms/step - loss: 3.2505\n",
      "6000/6000 [==============================] - 542s 90ms/step - loss: 3.2205\n",
      "6000/6000 [==============================] - 543s 91ms/step - loss: 3.1998\n",
      "6000/6000 [==============================] - 541s 90ms/step - loss: 3.1824\n",
      "6000/6000 [==============================] - 546s 91ms/step - loss: 3.1707\n",
      "6000/6000 [==============================] - 546s 91ms/step - loss: 3.1549\n",
      "6000/6000 [==============================] - 557s 93ms/step - loss: 3.1470\n",
      "6000/6000 [==============================] - 556s 93ms/step - loss: 3.1369\n",
      "6000/6000 [==============================] - 558s 93ms/step - loss: 3.1302\n",
      "6000/6000 [==============================] - 554s 92ms/step - loss: 3.1260\n",
      "6000/6000 [==============================] - 555s 92ms/step - loss: 3.1222\n",
      "6000/6000 [==============================] - 551s 92ms/step - loss: 3.1230\n"
     ]
    }
   ],
   "source": [
    "#define the model\n",
    "model = cap_model(vocab_size, max_length)\n",
    "epochs = 20\n",
    "steps = len(train_descriptions)\n",
    "for i in range(epochs):\n",
    "    gen = data_gen(train_descriptions, train_features, tokenizer, max_length, vocab_size)\n",
    "    model.fit_generator(gen, epochs=1, steps_per_epoch=steps, verbose=1)\n",
    "    model.save('/content/drive/MyDrive/Image Captioning/model_2' + str(i) + '.h5')"
   ]
  },
  {
   "cell_type": "code",
   "execution_count": null,
   "metadata": {
    "id": "TyYEQa1LYmIL"
   },
   "outputs": [],
   "source": [
    "\n",
    "def feature_ext(filename):\n",
    "    model = VGG16()\n",
    "    model = Model(inputs=model.inputs, outputs=model.layers[-2].output)\n",
    "    image = load_img(filename, target_size=(224, 224))\n",
    "    image = img_to_array(image)\n",
    "    image = image.reshape((1, image.shape[0], image.shape[1], image.shape[2]))\n",
    "    image = preprocess_input(image)\n",
    "    feature = model.predict(image, verbose=0)\n",
    "    return feature\n",
    "\n"
   ]
  },
  {
   "cell_type": "code",
   "execution_count": null,
   "metadata": {
    "id": "MLyXXI4tYmKQ"
   },
   "outputs": [],
   "source": [
    "\n",
    "def wordid(integer, tokenizer):\n",
    "    for word, index in tokenizer.word_index.items():\n",
    "        if index == integer:\n",
    "            return word\n",
    "    return None\n",
    "\n"
   ]
  },
  {
   "cell_type": "code",
   "execution_count": null,
   "metadata": {
    "id": "DlO6HsSjYmS0"
   },
   "outputs": [],
   "source": [
    "\n",
    "def gen_desc(model, tokenizer, photo, max_length):\n",
    "    in_text = 'startseq'\n",
    "    for i in range(max_length):\n",
    "        sequence = tokenizer.texts_to_sequences([in_text])[0]\n",
    "        sequence = pad_sequences([sequence], maxlen=max_length)\n",
    "        y = model.predict([photo,sequence], verbose=0)\n",
    "        y = argmax(y)\n",
    "        word = wordid(y, tokenizer)\n",
    "        if word is None:\n",
    "            break\n",
    "        in_text += ' ' + word\n",
    "        if word == 'endseq':\n",
    "            break\n",
    "    return in_text"
   ]
  },
  {
   "cell_type": "code",
   "execution_count": null,
   "metadata": {
    "colab": {
     "base_uri": "https://localhost:8080/"
    },
    "id": "lT7pfNMDfion",
    "outputId": "2ab7d35d-5fb0-440b-b711-28b65e9a473a"
   },
   "outputs": [
    {
     "name": "stdout",
     "output_type": "stream",
     "text": [
      "<class 'keras.preprocessing.text.Tokenizer'>\n"
     ]
    }
   ],
   "source": [
    "\n",
    "tokenizer = load(open('/content/drive/MyDrive/archive/tokenizer.pkl', 'rb'))\n",
    "print(type(tokenizer))\n",
    "\n",
    "max_length = 33\n",
    "\n",
    "model = load_model('/content/drive/MyDrive/archive/model_218.h5')\n"
   ]
  },
  {
   "cell_type": "code",
   "execution_count": 9,
   "metadata": {
    "colab": {
     "base_uri": "https://localhost:8080/",
     "height": 269
    },
    "id": "qmpHD4wCY756",
    "outputId": "de8b62f5-b92b-4d98-87f8-77c8ee94ed94"
   },
   "outputs": [
    {
     "data": {
      "image/png": "[encoded data removed]",
      "text/plain": [
       "<Figure size 432x288 with 1 Axes>"
      ]
     },
     "metadata": {
      "needs_background": "light"
     },
     "output_type": "display_data"
    }
   ],
   "source": [
    "from matplotlib import pyplot as plt\n",
    "from matplotlib import image as im\n",
    "image = im.imread(\"/content/drive/MyDrive/archive/DSCN0304.JPG\")\n",
    "plt.imshow(image)\n",
    "plt.show()\n",
    "#using the below image as test image"
   ]
  },
  {
   "cell_type": "code",
   "execution_count": null,
   "metadata": {
    "colab": {
     "base_uri": "https://localhost:8080/"
    },
    "id": "ENSiUk5ofnMv",
    "outputId": "63acb7fd-e7ac-457a-c098-e2ebbc2fbef4"
   },
   "outputs": [
    {
     "name": "stdout",
     "output_type": "stream",
     "text": [
      "young boy is wearing red shirt and holding his arm wide closed\n"
     ]
    }
   ],
   "source": [
    "\n",
    "img = feature_ext('/content/drive/MyDrive/archive/DSCN0304.JPG')\n",
    "description = gen_desc(model, tokenizer,img, max_length)\n",
    "\n",
    "\n",
    "stopwords = ['startseq', 'endseq']\n",
    "\n",
    "desc = [words for words in description.split() if words not in stopwords]\n",
    "desc = ' '.join(desc)\n",
    "print(desc)"
   ]
  },
  {
   "cell_type": "markdown",
   "metadata": {
    "id": "CdaQ7P52hcuu"
   },
   "source": [
    "**REFERENCES:**\n",
    "* [1] Chetan Sagathiya, 2021, \"Image Caption Generator\", https://github.com/Chetan-Sagathiya/Image-Caption-Generator\n",
    "* [2] AHMEDGAMAL12,2022, \"Image_Caption_Generator\",https://www.kaggle.com/code/ahmedgamal12/image-caption-generator\n",
    "* [3] DAS KOUSHIK,2022, \"ImageCaptioning\", https://www.kaggle.com/code/daskoushik/imagecaptioning#Training-Model\n",
    "* [4] Masum Ahmed EeSha, 2021, \"Image Caption Generator with CNN & LSTM\", https://www.youtube.com/watch?v=yWAhC95n5RM&t=7s"
   ]
  }
 ],
 "metadata": {
  "accelerator": "GPU",
  "colab": {
   "provenance": []
  },
  "kernelspec": {
   "display_name": "Python 3 (ipykernel)",
   "language": "python",
   "name": "python3"
  },
  "language_info": {
   "codemirror_mode": {
    "name": "ipython",
    "version": 3
   },
   "file_extension": ".py",
   "mimetype": "text/x-python",
   "name": "python",
   "nbconvert_exporter": "python",
   "pygments_lexer": "ipython3",
   "version": "3.9.7"
  }
 },
 "nbformat": 4,
 "nbformat_minor": 1
}
